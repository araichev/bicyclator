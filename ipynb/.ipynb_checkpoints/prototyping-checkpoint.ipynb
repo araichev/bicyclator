{
 "cells": [
  {
   "cell_type": "code",
   "execution_count": 2,
   "metadata": {
    "collapsed": false
   },
   "outputs": [
    {
     "name": "stdout",
     "output_type": "stream",
     "text": [
      "The autoreload extension is already loaded. To reload it, use:\n",
      "  %reload_ext autoreload\n"
     ]
    }
   ],
   "source": [
    "%load_ext autoreload\n",
    "%autoreload 2\n",
    "\n",
    "import sys\n",
    "\n",
    "sys.path.append('../')\n",
    "import bicycle as b"
   ]
  },
  {
   "cell_type": "code",
   "execution_count": 13,
   "metadata": {
    "collapsed": false
   },
   "outputs": [
    {
     "data": {
      "text/plain": [
       "Lyonsport\n",
       "---------\n",
       "center_to_flange = {'left': None, 'right': None}\n",
       "crank_length = None\n",
       "erd = None\n",
       "flange_diameter = {'left': None, 'right': None}\n",
       "fork_rake = None\n",
       "front_cogs = [44, 34]\n",
       "head_tube_angle = None\n",
       "name = Lyonsport\n",
       "num_crosses = None\n",
       "num_spokes = None\n",
       "offset = 0\n",
       "rear_cogs = [12, 14, 16, 18, 24, 32]\n",
       "rim_diameter = None\n",
       "spoke_hole_diameter = 2.6\n",
       "tire_width = None\n",
       "wheel_diameter = None"
      ]
     },
     "execution_count": 13,
     "metadata": {},
     "output_type": "execute_result"
    }
   ],
   "source": [
    "bike = b.Bicycle(name='Lyonsport', front_cogs=[34, 44], \n",
    "  rear_cogs=[12, 14, 16, 18, 24, 32])\n",
    "bike"
   ]
  },
  {
   "cell_type": "code",
   "execution_count": 5,
   "metadata": {
    "collapsed": false
   },
   "outputs": [
    {
     "name": "stdout",
     "output_type": "stream",
     "text": [
      "specs\n",
      "-----\n",
      "center_to_flange = {'left': None, 'right': None}\n",
      "crank_length = None\n",
      "crosses = None\n",
      "erd = None\n",
      "flange_diameter = {'left': None, 'right': None}\n",
      "fork_rake = None\n",
      "front_cogs = []\n",
      "head_tube_angle = None\n",
      "offset = 0\n",
      "rear_cogs = []\n",
      "rim_diameter = None\n",
      "spoke_hole_diameter = 2.6\n",
      "spokes = None\n",
      "tire_width = None\n",
      "wheel_radius = None\n",
      "\n"
     ]
    }
   ],
   "source": [
    "print(bike)"
   ]
  },
  {
   "cell_type": "code",
   "execution_count": null,
   "metadata": {
    "collapsed": true
   },
   "outputs": [],
   "source": []
  }
 ],
 "metadata": {
  "kernelspec": {
   "display_name": "Python 3",
   "language": "python",
   "name": "python3"
  },
  "language_info": {
   "codemirror_mode": {
    "name": "ipython",
    "version": 3
   },
   "file_extension": ".py",
   "mimetype": "text/x-python",
   "name": "python",
   "nbconvert_exporter": "python",
   "pygments_lexer": "ipython3",
   "version": "3.4.2"
  }
 },
 "nbformat": 4,
 "nbformat_minor": 0
}
