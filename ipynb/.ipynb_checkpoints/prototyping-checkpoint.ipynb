{
 "cells": [
  {
   "cell_type": "code",
   "execution_count": 1,
   "metadata": {
    "collapsed": false
   },
   "outputs": [],
   "source": [
    "%load_ext autoreload\n",
    "%autoreload 2\n",
    "\n",
    "import sys\n",
    "from copy import deepcopy\n",
    "\n",
    "sys.path.append('../bicycle_calculator/')\n",
    "import bicycle as b"
   ]
  },
  {
   "cell_type": "code",
   "execution_count": 2,
   "metadata": {
    "collapsed": false
   },
   "outputs": [
    {
     "data": {
      "text/plain": [
       "{(34, 12): 0.9,\n",
       " (34, 14): 1.1,\n",
       " (34, 16): 1.2,\n",
       " (34, 18): 1.4,\n",
       " (34, 21): 1.6,\n",
       " (34, 26): 2.0,\n",
       " (34, 32): 2.5,\n",
       " (44, 12): 0.7,\n",
       " (44, 14): 0.8,\n",
       " (44, 16): 1.0,\n",
       " (44, 18): 1.1,\n",
       " (44, 21): 1.3,\n",
       " (44, 26): 1.6,\n",
       " (44, 32): 1.9}"
      ]
     },
     "execution_count": 2,
     "metadata": {},
     "output_type": "execute_result"
    }
   ],
   "source": [
    "wheel = b.Wheel(\n",
    "  name='wheely',\n",
    "  diameter=670,  \n",
    "  )\n",
    "lyonsport = b.Bicycle(\n",
    "  name='Lyonsport', \n",
    "  front_cogs=[44, 34], \n",
    "  rear_cogs=[12, 14, 16, 18, 21, 26, 32],\n",
    "  crank_length=170,\n",
    "  rear_wheel=wheel,\n",
    "  )\n",
    "lyonsport.gain_ratios(1)\n",
    "lyonsport.cadence_to_speeds(1, 1)\n",
    "lyonsport.speed_to_cadences(20, 1)"
   ]
  },
  {
   "cell_type": "code",
   "execution_count": 3,
   "metadata": {
    "collapsed": false
   },
   "outputs": [
    {
     "data": {
      "text/plain": [
       "{(26, 12): 2.2,\n",
       " (26, 14): 1.9,\n",
       " (26, 16): 1.6,\n",
       " (26, 18): 1.4,\n",
       " (26, 21): 1.2,\n",
       " (26, 26): 1.0,\n",
       " (26, 32): 0.8,\n",
       " (42, 12): 3.5,\n",
       " (42, 14): 3.0,\n",
       " (42, 16): 2.6,\n",
       " (42, 18): 2.3,\n",
       " (42, 21): 2.0,\n",
       " (42, 26): 1.6,\n",
       " (42, 32): 1.3}"
      ]
     },
     "execution_count": 3,
     "metadata": {},
     "output_type": "execute_result"
    }
   ],
   "source": [
    "proto = deepcopy(lyonsport)\n",
    "proto.front_cogs = [26, 42]\n",
    "proto.crank_length = 171\n",
    "proto.gain_ratios(1)\n",
    "proto.gear_ratios(1)"
   ]
  },
  {
   "cell_type": "code",
   "execution_count": 21,
   "metadata": {
    "collapsed": false
   },
   "outputs": [
    {
     "data": {
      "text/plain": [
       "(2.4285714285714284, 2.3333333333333335)"
      ]
     },
     "execution_count": 21,
     "metadata": {},
     "output_type": "execute_result"
    }
   ],
   "source": [
    "34/14, 42/18"
   ]
  },
  {
   "cell_type": "code",
   "execution_count": null,
   "metadata": {
    "collapsed": true
   },
   "outputs": [],
   "source": []
  }
 ],
 "metadata": {
  "kernelspec": {
   "display_name": "Python 3",
   "language": "python",
   "name": "python3"
  },
  "language_info": {
   "codemirror_mode": {
    "name": "ipython",
    "version": 3
   },
   "file_extension": ".py",
   "mimetype": "text/x-python",
   "name": "python",
   "nbconvert_exporter": "python",
   "pygments_lexer": "ipython3",
   "version": "3.4.2"
  }
 },
 "nbformat": 4,
 "nbformat_minor": 0
}
