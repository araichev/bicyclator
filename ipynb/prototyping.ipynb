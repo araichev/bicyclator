{
 "cells": [
  {
   "cell_type": "code",
   "execution_count": 27,
   "metadata": {
    "collapsed": false
   },
   "outputs": [
    {
     "name": "stdout",
     "output_type": "stream",
     "text": [
      "The autoreload extension is already loaded. To reload it, use:\n",
      "  %reload_ext autoreload\n"
     ]
    }
   ],
   "source": [
    "%load_ext autoreload\n",
    "%autoreload 2\n",
    "\n",
    "import sys\n",
    "from copy import deepcopy\n",
    "\n",
    "sys.path.append('../')\n",
    "import bicycle as b"
   ]
  },
  {
   "cell_type": "code",
   "execution_count": 26,
   "metadata": {
    "collapsed": false
   },
   "outputs": [
    {
     "data": {
      "text/plain": [
       "{(34, 12): 5.6,\n",
       " (34, 14): 4.8,\n",
       " (34, 16): 4.2,\n",
       " (34, 18): 3.7,\n",
       " (34, 21): 3.2,\n",
       " (34, 26): 2.6,\n",
       " (34, 32): 2.1,\n",
       " (44, 12): 7.2,\n",
       " (44, 14): 6.2,\n",
       " (44, 16): 5.4,\n",
       " (44, 18): 4.8,\n",
       " (44, 21): 4.1,\n",
       " (44, 26): 3.3,\n",
       " (44, 32): 2.7}"
      ]
     },
     "execution_count": 26,
     "metadata": {},
     "output_type": "execute_result"
    }
   ],
   "source": [
    "lyonsport = b.Bicycle(\n",
    "  name='Lyonsport', \n",
    "  front_cogs=[44, 34], \n",
    "  rear_cogs=[12, 14, 16, 18, 21, 26, 32],\n",
    "  wheel_diameter=670,\n",
    "  crank_length=170,\n",
    "  )\n",
    "bike.gain_ratios()"
   ]
  },
  {
   "cell_type": "code",
   "execution_count": 28,
   "metadata": {
    "collapsed": false
   },
   "outputs": [
    {
     "data": {
      "text/plain": [
       "{(32, 12): 5.3,\n",
       " (32, 14): 4.5,\n",
       " (32, 16): 3.9,\n",
       " (32, 18): 3.5,\n",
       " (32, 21): 3.0,\n",
       " (32, 26): 2.4,\n",
       " (32, 32): 2.0,\n",
       " (42, 12): 6.9,\n",
       " (42, 14): 5.9,\n",
       " (42, 16): 5.2,\n",
       " (42, 18): 4.6,\n",
       " (42, 21): 3.9,\n",
       " (42, 26): 3.2,\n",
       " (42, 32): 2.6}"
      ]
     },
     "execution_count": 28,
     "metadata": {},
     "output_type": "execute_result"
    }
   ],
   "source": [
    "proto = deepcopy(lyonsport)\n",
    "proto.front_cogs = [32, 42]\n",
    "proto.gain_ratios()"
   ]
  },
  {
   "cell_type": "code",
   "execution_count": null,
   "metadata": {
    "collapsed": true
   },
   "outputs": [],
   "source": []
  }
 ],
 "metadata": {
  "kernelspec": {
   "display_name": "Python 3",
   "language": "python",
   "name": "python3"
  },
  "language_info": {
   "codemirror_mode": {
    "name": "ipython",
    "version": 3
   },
   "file_extension": ".py",
   "mimetype": "text/x-python",
   "name": "python",
   "nbconvert_exporter": "python",
   "pygments_lexer": "ipython3",
   "version": "3.4.2"
  }
 },
 "nbformat": 4,
 "nbformat_minor": 0
}
