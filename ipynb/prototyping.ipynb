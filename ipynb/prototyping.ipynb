{
 "cells": [
  {
   "cell_type": "code",
   "execution_count": 3,
   "metadata": {
    "collapsed": false
   },
   "outputs": [
    {
     "name": "stdout",
     "output_type": "stream",
     "text": [
      "The autoreload extension is already loaded. To reload it, use:\n",
      "  %reload_ext autoreload\n"
     ]
    }
   ],
   "source": [
    "import sys\n",
    "from copy import deepcopy\n",
    "\n",
    "sys.path.append('../')\n",
    "import bicycle as b"
   ]
  },
  {
   "cell_type": "code",
   "execution_count": 11,
   "metadata": {
    "collapsed": false
   },
   "outputs": [
    {
     "data": {
      "text/plain": [
       "{(34, 12): 21.5,\n",
       " (34, 14): 18.5,\n",
       " (34, 16): 16.2,\n",
       " (34, 18): 14.2,\n",
       " (34, 21): 12.3,\n",
       " (34, 26): 10.0,\n",
       " (34, 32): 8.1,\n",
       " (44, 12): 27.7,\n",
       " (44, 14): 23.8,\n",
       " (44, 16): 20.8,\n",
       " (44, 18): 18.5,\n",
       " (44, 21): 15.8,\n",
       " (44, 26): 12.7,\n",
       " (44, 32): 10.4}"
      ]
     },
     "execution_count": 11,
     "metadata": {},
     "output_type": "execute_result"
    }
   ],
   "source": [
    "bike = Bicycle()\n",
    "bike\n"
   ]
  },
  {
   "cell_type": "code",
   "execution_count": 47,
   "metadata": {
    "collapsed": false
   },
   "outputs": [
    {
     "data": {
      "text/plain": [
       "{(34, 12): 5.6,\n",
       " (34, 14): 4.8,\n",
       " (34, 16): 4.2,\n",
       " (34, 18): 3.7,\n",
       " (34, 21): 3.2,\n",
       " (34, 26): 2.6,\n",
       " (34, 32): 2.1,\n",
       " (46, 12): 7.6,\n",
       " (46, 14): 6.5,\n",
       " (46, 16): 5.7,\n",
       " (46, 18): 5.0,\n",
       " (46, 21): 4.3,\n",
       " (46, 26): 3.5,\n",
       " (46, 32): 2.8}"
      ]
     },
     "execution_count": 47,
     "metadata": {},
     "output_type": "execute_result"
    }
   ],
   "source": [
    "wheel = Wheel(\n",
    "  name='wheely',\n",
    "  diameter=670,  \n",
    "  )\n",
    "lyonsport = Bicycle(\n",
    "  name='Lyonsport', \n",
    "  cogs={'front': [44, 34], 'rear': [12, 14, 16, 18, 21, 26, 32]},\n",
    "  crank_length=170,\n",
    "  wheels={'front': wheel, 'rear': wheel}\n",
    "  )\n",
    "lyonsport.gain_ratios()\n",
    "lyonsport.cadence_to_speeds(60)"
   ]
  },
  {
   "cell_type": "code",
   "execution_count": 25,
   "metadata": {
    "collapsed": false
   },
   "outputs": [
    {
     "data": {
      "text/plain": [
       "{(30, 12): 4.9,\n",
       " (30, 14): 4.2,\n",
       " (30, 16): 3.7,\n",
       " (30, 18): 3.3,\n",
       " (30, 21): 2.8,\n",
       " (30, 26): 2.3,\n",
       " (30, 32): 1.8,\n",
       " (42, 12): 6.9,\n",
       " (42, 14): 5.9,\n",
       " (42, 16): 5.1,\n",
       " (42, 18): 4.6,\n",
       " (42, 21): 3.9,\n",
       " (42, 26): 3.2,\n",
       " (42, 32): 2.6}"
      ]
     },
     "execution_count": 25,
     "metadata": {},
     "output_type": "execute_result"
    }
   ],
   "source": [
    "proto = deepcopy(lyonsport)\n",
    "proto.front_cogs = [30, 42]\n",
    "proto.crank_length = 171\n",
    "proto.front_cogs = [26, 42]\n",
    "proto.gain_ratios()"
   ]
  },
  {
   "cell_type": "code",
   "execution_count": 35,
   "metadata": {
    "collapsed": false
   },
   "outputs": [
    {
     "data": {
      "text/plain": [
       "{(24, 12): 4.1,\n",
       " (24, 14): 3.5,\n",
       " (24, 16): 3.0,\n",
       " (24, 18): 2.7,\n",
       " (24, 21): 2.3,\n",
       " (24, 26): 1.9,\n",
       " (24, 32): 1.5,\n",
       " (36, 12): 6.1,\n",
       " (36, 14): 5.2,\n",
       " (36, 16): 4.6,\n",
       " (36, 18): 4.1,\n",
       " (36, 21): 3.5,\n",
       " (36, 26): 2.8,\n",
       " (36, 32): 2.3,\n",
       " (48, 12): 8.1,\n",
       " (48, 14): 7.0,\n",
       " (48, 16): 6.1,\n",
       " (48, 18): 5.4,\n",
       " (48, 21): 4.6,\n",
       " (48, 26): 3.7,\n",
       " (48, 32): 3.0}"
      ]
     },
     "execution_count": 35,
     "metadata": {},
     "output_type": "execute_result"
    }
   ],
   "source": [
    "miyata = deepcopy(lyonsport)\n",
    "miyata.front_cogs = [24, 36, 48]\n",
    "miyata.crank_length = 165\n",
    "miyata.gain_ratios(1)\n"
   ]
  },
  {
   "cell_type": "code",
   "execution_count": null,
   "metadata": {
    "collapsed": true
   },
   "outputs": [],
   "source": []
  }
 ],
 "metadata": {
  "kernelspec": {
   "display_name": "Python 3",
   "language": "python",
   "name": "python3"
  },
  "language_info": {
   "codemirror_mode": {
    "name": "ipython",
    "version": 3
   },
   "file_extension": ".py",
   "mimetype": "text/x-python",
   "name": "python",
   "nbconvert_exporter": "python",
   "pygments_lexer": "ipython3",
   "version": "3.4.2"
  }
 },
 "nbformat": 4,
 "nbformat_minor": 0
}
