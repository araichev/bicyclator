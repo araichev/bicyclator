{
 "cells": [
  {
   "cell_type": "code",
   "execution_count": 1,
   "metadata": {
    "collapsed": false
   },
   "outputs": [],
   "source": [
    "%load_ext autoreload\n",
    "%autoreload 2\n",
    "\n",
    "import sys\n",
    "from copy import deepcopy\n",
    "\n",
    "sys.path.append('../')\n",
    "import bicycle as b"
   ]
  },
  {
   "cell_type": "code",
   "execution_count": 11,
   "metadata": {
    "collapsed": false
   },
   "outputs": [
    {
     "data": {
      "text/plain": [
       "{(34, 12): 21.5,\n",
       " (34, 14): 18.5,\n",
       " (34, 16): 16.2,\n",
       " (34, 18): 14.2,\n",
       " (34, 21): 12.3,\n",
       " (34, 26): 10.0,\n",
       " (34, 32): 8.1,\n",
       " (44, 12): 27.7,\n",
       " (44, 14): 23.8,\n",
       " (44, 16): 20.8,\n",
       " (44, 18): 18.5,\n",
       " (44, 21): 15.8,\n",
       " (44, 26): 12.7,\n",
       " (44, 32): 10.4}"
      ]
     },
     "execution_count": 11,
     "metadata": {},
     "output_type": "execute_result"
    }
   ],
   "source": [
    "wheel = b.Wheel(\n",
    "  name='wheely',\n",
    "  diameter=670,  \n",
    "  )\n",
    "lyonsport = b.Bicycle(\n",
    "  name='Lyonsport', \n",
    "  cogs={'front': [44, 34], 'rear': [12, 14, 16, 18, 21, 26, 32]},\n",
    "  crank_length=170,\n",
    "  wheels={'front': wheel, 'rear': wheel}\n",
    "  )\n",
    "lyonsport.gain_ratios()\n",
    "lyonsport.cadence_to_speeds(60)"
   ]
  },
  {
   "cell_type": "code",
   "execution_count": 25,
   "metadata": {
    "collapsed": false
   },
   "outputs": [
    {
     "data": {
      "text/plain": [
       "{(26, 12): 4.2,\n",
       " (26, 14): 3.6,\n",
       " (26, 16): 3.2,\n",
       " (26, 18): 2.8,\n",
       " (26, 21): 2.4,\n",
       " (26, 26): 2.0,\n",
       " (26, 32): 1.6,\n",
       " (42, 12): 6.9,\n",
       " (42, 14): 5.9,\n",
       " (42, 16): 5.1,\n",
       " (42, 18): 4.6,\n",
       " (42, 21): 3.9,\n",
       " (42, 26): 3.2,\n",
       " (42, 32): 2.6}"
      ]
     },
     "execution_count": 25,
     "metadata": {},
     "output_type": "execute_result"
    }
   ],
   "source": [
    "proto = deepcopy(lyonsport)\n",
    "proto.crank_length = 171\n",
    "proto.front_cogs = [26, 42]\n",
    "proto.gain_ratios()"
   ]
  },
  {
   "cell_type": "code",
   "execution_count": 21,
   "metadata": {
    "collapsed": false
   },
   "outputs": [
    {
     "data": {
      "text/plain": [
       "(2.4285714285714284, 2.3333333333333335)"
      ]
     },
     "execution_count": 21,
     "metadata": {},
     "output_type": "execute_result"
    }
   ],
   "source": [
    "34/14, 42/18"
   ]
  },
  {
   "cell_type": "code",
   "execution_count": null,
   "metadata": {
    "collapsed": true
   },
   "outputs": [],
   "source": []
  }
 ],
 "metadata": {
  "kernelspec": {
   "display_name": "Python 3",
   "language": "python",
   "name": "python3"
  },
  "language_info": {
   "codemirror_mode": {
    "name": "ipython",
    "version": 3
   },
   "file_extension": ".py",
   "mimetype": "text/x-python",
   "name": "python",
   "nbconvert_exporter": "python",
   "pygments_lexer": "ipython3",
   "version": "3.4.2"
  }
 },
 "nbformat": 4,
 "nbformat_minor": 0
}
