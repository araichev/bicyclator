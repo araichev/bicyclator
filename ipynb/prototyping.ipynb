{
 "cells": [
  {
   "cell_type": "code",
   "execution_count": 2,
   "metadata": {},
   "outputs": [],
   "source": [
    "import sys\n",
    "\n",
    "sys.path.append('../')\n",
    "\n",
    "from bicyclator.main import *"
   ]
  },
  {
   "cell_type": "code",
   "execution_count": 3,
   "metadata": {},
   "outputs": [
    {
     "data": {
      "text/plain": [
       "Nameless bicycle\n",
       "================\n",
       "front_cogs = []\n",
       "rear_cogs = []\n",
       "crank_length = None\n",
       "head_tube_angle = None\n",
       "fork_rake = None\n",
       "\n",
       "front_wheel = Nameless wheel\n",
       "----------------------------\n",
       "bsd = None\n",
       "center_to_flange = {'right': None, 'left': None}\n",
       "diameter = None\n",
       "erd = None\n",
       "flange_diameter = {'right': None, 'left': None}\n",
       "name = None\n",
       "num_crosses = 3\n",
       "num_spokes = None\n",
       "offset = 0\n",
       "spoke_hole_diameter = 2.6\n",
       "tire_width = None\n",
       "\n",
       "rear_wheel = Nameless wheel\n",
       "----------------------------\n",
       "bsd = None\n",
       "center_to_flange = {'right': None, 'left': None}\n",
       "diameter = None\n",
       "erd = None\n",
       "flange_diameter = {'right': None, 'left': None}\n",
       "name = None\n",
       "num_crosses = 3\n",
       "num_spokes = None\n",
       "offset = 0\n",
       "spoke_hole_diameter = 2.6\n",
       "tire_width = None"
      ]
     },
     "execution_count": 3,
     "metadata": {},
     "output_type": "execute_result"
    }
   ],
   "source": [
    "bike = Bicycle()\n",
    "bike\n"
   ]
  },
  {
   "cell_type": "code",
   "execution_count": 6,
   "metadata": {},
   "outputs": [
    {
     "data": {
      "text/plain": [
       "{(28, 12): 4.591617933723197,\n",
       " (28, 14): 3.9356725146198834,\n",
       " (28, 16): 3.443713450292398,\n",
       " (28, 18): 3.0610786224821314,\n",
       " (28, 21): 2.6237816764132553,\n",
       " (28, 26): 2.119208277103014,\n",
       " (28, 32): 1.721856725146199,\n",
       " (42, 12): 6.887426900584796,\n",
       " (42, 14): 5.9035087719298245,\n",
       " (42, 16): 5.165570175438597,\n",
       " (42, 18): 4.591617933723197,\n",
       " (42, 21): 3.9356725146198834,\n",
       " (42, 26): 3.178812415654521,\n",
       " (42, 32): 2.5827850877192984}"
      ]
     },
     "execution_count": 6,
     "metadata": {},
     "output_type": "execute_result"
    }
   ],
   "source": [
    "wheel = Wheel(\n",
    "  name='wheely',\n",
    "  diameter=673,  \n",
    "  )\n",
    "lyonsport = Bicycle(\n",
    "  name='Lyonsport', \n",
    "  front_cogs=[42, 28], \n",
    "  rear_cogs=[12, 14, 16, 18, 21, 26, 32],\n",
    "  crank_length=171,\n",
    "  front_wheel=wheel,\n",
    "  rear_wheel=wheel,\n",
    "  )\n",
    "\n",
    "gain_ratios(lyonsport)\n",
    "#lyonsport.cadence_to_speeds(60)"
   ]
  },
  {
   "cell_type": "code",
   "execution_count": 5,
   "metadata": {},
   "outputs": [
    {
     "data": {
      "text/plain": [
       "{(26, 12): 4.269607843137255,\n",
       " (26, 14): 3.6596638655462184,\n",
       " (26, 16): 3.202205882352941,\n",
       " (26, 18): 2.84640522875817,\n",
       " (26, 21): 2.4397759103641454,\n",
       " (26, 26): 1.9705882352941175,\n",
       " (26, 32): 1.6011029411764706,\n",
       " (36, 12): 5.911764705882352,\n",
       " (36, 14): 5.067226890756302,\n",
       " (36, 16): 4.4338235294117645,\n",
       " (36, 18): 3.941176470588235,\n",
       " (36, 21): 3.3781512605042017,\n",
       " (36, 26): 2.728506787330317,\n",
       " (36, 32): 2.2169117647058822,\n",
       " (40, 12): 6.568627450980393,\n",
       " (40, 14): 5.630252100840337,\n",
       " (40, 16): 4.926470588235294,\n",
       " (40, 18): 4.379084967320262,\n",
       " (40, 21): 3.753501400560224,\n",
       " (40, 26): 3.0316742081447967,\n",
       " (40, 32): 2.463235294117647}"
      ]
     },
     "execution_count": 5,
     "metadata": {},
     "output_type": "execute_result"
    }
   ],
   "source": [
    "miyata = lyonsport.copy()\n",
    "miyata.front_cogs = [26, 36, 40]\n",
    "gain_ratios(miyata)\n"
   ]
  },
  {
   "cell_type": "code",
   "execution_count": 6,
   "metadata": {},
   "outputs": [
    {
     "data": {
      "text/plain": [
       "{(24, 12): 4.0606060606060606,\n",
       " (24, 14): 3.4805194805194803,\n",
       " (24, 16): 3.0454545454545454,\n",
       " (24, 18): 2.707070707070707,\n",
       " (24, 21): 2.3203463203463204,\n",
       " (24, 26): 1.8741258741258742,\n",
       " (24, 32): 1.5227272727272727,\n",
       " (35, 12): 5.921717171717172,\n",
       " (35, 14): 5.075757575757576,\n",
       " (35, 16): 4.441287878787879,\n",
       " (35, 18): 3.947811447811448,\n",
       " (35, 21): 3.383838383838384,\n",
       " (35, 26): 2.733100233100233,\n",
       " (35, 32): 2.2206439393939394,\n",
       " (43, 12): 7.275252525252525,\n",
       " (43, 14): 6.235930735930736,\n",
       " (43, 16): 5.456439393939394,\n",
       " (43, 18): 4.8501683501683495,\n",
       " (43, 21): 4.157287157287157,\n",
       " (43, 26): 3.3578088578088576,\n",
       " (43, 32): 2.728219696969697}"
      ]
     },
     "execution_count": 6,
     "metadata": {},
     "output_type": "execute_result"
    }
   ],
   "source": [
    "rivendell = lyonsport.copy()\n",
    "rivendell.front_cogs = [24, 35, 43]\n",
    "rivendell.crank_length = 165\n",
    "gain_ratios(rivendell)\n"
   ]
  },
  {
   "cell_type": "code",
   "execution_count": null,
   "metadata": {
    "collapsed": true
   },
   "outputs": [],
   "source": []
  },
  {
   "cell_type": "code",
   "execution_count": null,
   "metadata": {
    "collapsed": true
   },
   "outputs": [],
   "source": []
  }
 ],
 "metadata": {
  "kernelspec": {
   "display_name": "Python 3",
   "language": "python",
   "name": "python3"
  },
  "language_info": {
   "codemirror_mode": {
    "name": "ipython",
    "version": 3
   },
   "file_extension": ".py",
   "mimetype": "text/x-python",
   "name": "python",
   "nbconvert_exporter": "python",
   "pygments_lexer": "ipython3",
   "version": "3.5.2"
  }
 },
 "nbformat": 4,
 "nbformat_minor": 1
}
