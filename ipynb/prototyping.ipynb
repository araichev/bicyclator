{
 "cells": [
  {
   "cell_type": "code",
   "execution_count": 1,
   "metadata": {
    "collapsed": false
   },
   "outputs": [],
   "source": [
    "%load_ext autoreload\n",
    "%autoreload 2\n",
    "\n",
    "import sys\n",
    "from copy import deepcopy\n",
    "\n",
    "sys.path.append('../')\n",
    "import bicycle as b"
   ]
  },
  {
   "cell_type": "code",
   "execution_count": 7,
   "metadata": {
    "collapsed": false
   },
   "outputs": [
    {
     "data": {
      "text/plain": [
       "{(34, 12): 5.6,\n",
       " (34, 14): 4.8,\n",
       " (34, 16): 4.2,\n",
       " (34, 18): 3.7,\n",
       " (34, 21): 3.2,\n",
       " (34, 26): 2.6,\n",
       " (34, 32): 2.1,\n",
       " (44, 12): 7.2,\n",
       " (44, 14): 6.2,\n",
       " (44, 16): 5.4,\n",
       " (44, 18): 4.8,\n",
       " (44, 21): 4.1,\n",
       " (44, 26): 3.3,\n",
       " (44, 32): 2.7}"
      ]
     },
     "execution_count": 7,
     "metadata": {},
     "output_type": "execute_result"
    }
   ],
   "source": [
    "wheel = b.Wheel(\n",
    "  name='wheely',\n",
    "  diameter=670,  \n",
    "  )\n",
    "lyonsport = b.Bicycle(\n",
    "  name='Lyonsport', \n",
    "  front_cogs=[44, 34], \n",
    "  rear_cogs=[12, 14, 16, 18, 21, 26, 32],\n",
    "  crank_length=170,\n",
    "  wheels={'front': wheel, 'rear': wheel}\n",
    "  )\n",
    "lyonsport.gain_ratios()"
   ]
  },
  {
   "cell_type": "code",
   "execution_count": 5,
   "metadata": {
    "collapsed": false
   },
   "outputs": [
    {
     "data": {
      "text/plain": [
       "{(32, 12): 10.5,\n",
       " (32, 14): 9.0,\n",
       " (32, 16): 7.9,\n",
       " (32, 18): 7.0,\n",
       " (32, 21): 6.0,\n",
       " (32, 26): 4.9,\n",
       " (32, 32): 3.9,\n",
       " (42, 12): 13.8,\n",
       " (42, 14): 11.8,\n",
       " (42, 16): 10.3,\n",
       " (42, 18): 9.2,\n",
       " (42, 21): 7.9,\n",
       " (42, 26): 6.4,\n",
       " (42, 32): 5.2}"
      ]
     },
     "execution_count": 5,
     "metadata": {},
     "output_type": "execute_result"
    }
   ],
   "source": [
    "proto = deepcopy(lyonsport)\n",
    "proto.front_cogs = [32, 42]\n",
    "proto.gain_ratios()"
   ]
  },
  {
   "cell_type": "code",
   "execution_count": null,
   "metadata": {
    "collapsed": true
   },
   "outputs": [],
   "source": []
  }
 ],
 "metadata": {
  "kernelspec": {
   "display_name": "Python 3",
   "language": "python",
   "name": "python3"
  },
  "language_info": {
   "codemirror_mode": {
    "name": "ipython",
    "version": 3
   },
   "file_extension": ".py",
   "mimetype": "text/x-python",
   "name": "python",
   "nbconvert_exporter": "python",
   "pygments_lexer": "ipython3",
   "version": "3.4.2"
  }
 },
 "nbformat": 4,
 "nbformat_minor": 0
}
