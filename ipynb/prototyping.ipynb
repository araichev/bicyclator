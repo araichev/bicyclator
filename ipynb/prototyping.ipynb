{
 "cells": [
  {
   "cell_type": "code",
   "execution_count": 1,
   "metadata": {
    "collapsed": false
   },
   "outputs": [],
   "source": [
    "import sys\n",
    "\n",
    "sys.path.append('../')\n",
    "from bicycle_calculator.main import *"
   ]
  },
  {
   "cell_type": "code",
   "execution_count": 2,
   "metadata": {
    "collapsed": false
   },
   "outputs": [
    {
     "data": {
      "text/plain": [
       "Nameless bicycle\n",
       "================\n",
       "front_cogs = []\n",
       "rear_cogs = []\n",
       "crank_length = None\n",
       "head_tube_angle = None\n",
       "fork_rake = None\n",
       "\n",
       "front_wheel = Nameless wheel\n",
       "----------------------------\n",
       "bsd = None\n",
       "center_to_flange = {'right': None, 'left': None}\n",
       "diameter = None\n",
       "erd = None\n",
       "flange_diameter = {'right': None, 'left': None}\n",
       "name = None\n",
       "num_crosses = 3\n",
       "num_spokes = None\n",
       "offset = 0\n",
       "spoke_hole_diameter = 2.6\n",
       "tire_width = None\n",
       "\n",
       "rear_wheel = Nameless wheel\n",
       "----------------------------\n",
       "bsd = None\n",
       "center_to_flange = {'right': None, 'left': None}\n",
       "diameter = None\n",
       "erd = None\n",
       "flange_diameter = {'right': None, 'left': None}\n",
       "name = None\n",
       "num_crosses = 3\n",
       "num_spokes = None\n",
       "offset = 0\n",
       "spoke_hole_diameter = 2.6\n",
       "tire_width = None"
      ]
     },
     "execution_count": 2,
     "metadata": {},
     "output_type": "execute_result"
    }
   ],
   "source": [
    "bike = Bicycle()\n",
    "bike\n"
   ]
  },
  {
   "cell_type": "code",
   "execution_count": 3,
   "metadata": {
    "collapsed": false
   },
   "outputs": [
    {
     "data": {
      "text/plain": [
       "{(30, 12): 4.926470588235294,\n",
       " (30, 14): 4.222689075630252,\n",
       " (30, 16): 3.694852941176471,\n",
       " (30, 18): 3.2843137254901964,\n",
       " (30, 21): 2.8151260504201683,\n",
       " (30, 26): 2.2737556561085976,\n",
       " (30, 32): 1.8474264705882355,\n",
       " (42, 12): 6.897058823529412,\n",
       " (42, 14): 5.911764705882353,\n",
       " (42, 16): 5.172794117647059,\n",
       " (42, 18): 4.598039215686274,\n",
       " (42, 21): 3.9411764705882355,\n",
       " (42, 26): 3.1832579185520364,\n",
       " (42, 32): 2.5863970588235294}"
      ]
     },
     "execution_count": 3,
     "metadata": {},
     "output_type": "execute_result"
    }
   ],
   "source": [
    "wheel = Wheel(\n",
    "  name='wheely',\n",
    "  diameter=670,  \n",
    "  )\n",
    "lyonsport = Bicycle(\n",
    "  name='Lyonsport', \n",
    "  front_cogs=[42, 30], \n",
    "  rear_cogs=[12, 14, 16, 18, 21, 26, 32],\n",
    "  crank_length=170,\n",
    "  front_wheel=wheel,\n",
    "  rear_wheel=wheel,\n",
    "  )\n",
    "\n",
    "gain_ratios(lyonsport)\n",
    "#lyonsport.cadence_to_speeds(60)"
   ]
  },
  {
   "cell_type": "code",
   "execution_count": 5,
   "metadata": {
    "collapsed": false
   },
   "outputs": [
    {
     "data": {
      "text/plain": [
       "{(26, 12): 4.269607843137255,\n",
       " (26, 14): 3.6596638655462184,\n",
       " (26, 16): 3.202205882352941,\n",
       " (26, 18): 2.84640522875817,\n",
       " (26, 21): 2.4397759103641454,\n",
       " (26, 26): 1.9705882352941175,\n",
       " (26, 32): 1.6011029411764706,\n",
       " (36, 12): 5.911764705882352,\n",
       " (36, 14): 5.067226890756302,\n",
       " (36, 16): 4.4338235294117645,\n",
       " (36, 18): 3.941176470588235,\n",
       " (36, 21): 3.3781512605042017,\n",
       " (36, 26): 2.728506787330317,\n",
       " (36, 32): 2.2169117647058822,\n",
       " (40, 12): 6.568627450980393,\n",
       " (40, 14): 5.630252100840337,\n",
       " (40, 16): 4.926470588235294,\n",
       " (40, 18): 4.379084967320262,\n",
       " (40, 21): 3.753501400560224,\n",
       " (40, 26): 3.0316742081447967,\n",
       " (40, 32): 2.463235294117647}"
      ]
     },
     "execution_count": 5,
     "metadata": {},
     "output_type": "execute_result"
    }
   ],
   "source": [
    "miyata = lyonsport.copy()\n",
    "miyata.front_cogs = [26, 36, 40]\n",
    "gain_ratios(miyata)\n"
   ]
  },
  {
   "cell_type": "code",
   "execution_count": 6,
   "metadata": {
    "collapsed": false
   },
   "outputs": [
    {
     "data": {
      "text/plain": [
       "{(24, 12): 4.0606060606060606,\n",
       " (24, 14): 3.4805194805194803,\n",
       " (24, 16): 3.0454545454545454,\n",
       " (24, 18): 2.707070707070707,\n",
       " (24, 21): 2.3203463203463204,\n",
       " (24, 26): 1.8741258741258742,\n",
       " (24, 32): 1.5227272727272727,\n",
       " (35, 12): 5.921717171717172,\n",
       " (35, 14): 5.075757575757576,\n",
       " (35, 16): 4.441287878787879,\n",
       " (35, 18): 3.947811447811448,\n",
       " (35, 21): 3.383838383838384,\n",
       " (35, 26): 2.733100233100233,\n",
       " (35, 32): 2.2206439393939394,\n",
       " (43, 12): 7.275252525252525,\n",
       " (43, 14): 6.235930735930736,\n",
       " (43, 16): 5.456439393939394,\n",
       " (43, 18): 4.8501683501683495,\n",
       " (43, 21): 4.157287157287157,\n",
       " (43, 26): 3.3578088578088576,\n",
       " (43, 32): 2.728219696969697}"
      ]
     },
     "execution_count": 6,
     "metadata": {},
     "output_type": "execute_result"
    }
   ],
   "source": [
    "rivendell = lyonsport.copy()\n",
    "rivendell.front_cogs = [24, 35, 43]\n",
    "rivendell.crank_length = 165\n",
    "gain_ratios(rivendell)\n"
   ]
  },
  {
   "cell_type": "code",
   "execution_count": null,
   "metadata": {
    "collapsed": true
   },
   "outputs": [],
   "source": []
  },
  {
   "cell_type": "code",
   "execution_count": null,
   "metadata": {
    "collapsed": true
   },
   "outputs": [],
   "source": []
  }
 ],
 "metadata": {
  "kernelspec": {
   "display_name": "Python 3",
   "language": "python",
   "name": "python3"
  },
  "language_info": {
   "codemirror_mode": {
    "name": "ipython",
    "version": 3
   },
   "file_extension": ".py",
   "mimetype": "text/x-python",
   "name": "python",
   "nbconvert_exporter": "python",
   "pygments_lexer": "ipython3",
   "version": "3.4.2"
  }
 },
 "nbformat": 4,
 "nbformat_minor": 0
}
