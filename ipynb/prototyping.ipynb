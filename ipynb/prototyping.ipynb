{
 "cells": [
  {
   "cell_type": "code",
   "execution_count": 3,
   "metadata": {
    "collapsed": false
   },
   "outputs": [
    {
     "name": "stdout",
     "output_type": "stream",
     "text": [
      "The autoreload extension is already loaded. To reload it, use:\n",
      "  %reload_ext autoreload\n"
     ]
    }
   ],
   "source": [
    "import sys\n",
    "from copy import deepcopy\n",
    "\n",
    "sys.path.append('../')\n",
    "from bicycle_calculator.bicycle_calculator import *\n",
    "\n",
    "%load_ext autoreload\n",
    "%autoreload 2\n",
    "\n"
   ]
  },
  {
   "cell_type": "code",
   "execution_count": 39,
   "metadata": {
    "collapsed": false
   },
   "outputs": [
    {
     "data": {
      "text/plain": [
       "Nameless bicycle\n",
       "================\n",
       "front_cogs = []\n",
       "rear_cogs = []\n",
       "crank_length = None\n",
       "head_tube_angle = None\n",
       "fork_rake = None\n",
       "\n",
       "front_wheel = Nameless wheel\n",
       "----------------------------\n",
       "bsd = None\n",
       "center_to_flange = {'right': None, 'left': None}\n",
       "diameter = None\n",
       "erd = None\n",
       "flange_diameter = {'right': None, 'left': None}\n",
       "name = None\n",
       "num_crosses = None\n",
       "num_spokes = None\n",
       "offset = 0\n",
       "spoke_hole_diameter = 2.6\n",
       "tire_width = None\n",
       "\n",
       "rear_wheel = Nameless wheel\n",
       "----------------------------\n",
       "bsd = None\n",
       "center_to_flange = {'right': None, 'left': None}\n",
       "diameter = None\n",
       "erd = None\n",
       "flange_diameter = {'right': None, 'left': None}\n",
       "name = None\n",
       "num_crosses = None\n",
       "num_spokes = None\n",
       "offset = 0\n",
       "spoke_hole_diameter = 2.6\n",
       "tire_width = None"
      ]
     },
     "execution_count": 39,
     "metadata": {},
     "output_type": "execute_result"
    }
   ],
   "source": [
    "bike = Bicycle()\n",
    "bike\n"
   ]
  },
  {
   "cell_type": "code",
   "execution_count": 47,
   "metadata": {
    "collapsed": false
   },
   "outputs": [
    {
     "data": {
      "text/plain": [
       "{(34, 12): 5.6,\n",
       " (34, 14): 4.8,\n",
       " (34, 16): 4.2,\n",
       " (34, 18): 3.7,\n",
       " (34, 21): 3.2,\n",
       " (34, 26): 2.6,\n",
       " (34, 32): 2.1,\n",
       " (46, 12): 7.6,\n",
       " (46, 14): 6.5,\n",
       " (46, 16): 5.7,\n",
       " (46, 18): 5.0,\n",
       " (46, 21): 4.3,\n",
       " (46, 26): 3.5,\n",
       " (46, 32): 2.8}"
      ]
     },
     "execution_count": 47,
     "metadata": {},
     "output_type": "execute_result"
    }
   ],
   "source": [
    "wheel = Wheel(\n",
    "  name='wheely',\n",
    "  diameter=670,  \n",
    "  )\n",
    "lyonsport = Bicycle(\n",
    "  name='Lyonsport', \n",
    "  front_cogs=[46, 34], \n",
    "  rear_cogs = [12, 14, 16, 18, 21, 26, 32],\n",
    "  crank_length=170,\n",
    "  front_wheel = wheel, \n",
    "  rear_wheel = wheel,\n",
    "  )\n",
    "\n",
    "gain_ratios(lyonsport, 1)\n",
    "#lyonsport.cadence_to_speeds(60)"
   ]
  },
  {
   "cell_type": "code",
   "execution_count": 45,
   "metadata": {
    "collapsed": false
   },
   "outputs": [
    {
     "data": {
      "text/plain": [
       "{(30, 12): 4.9,\n",
       " (30, 14): 4.2,\n",
       " (30, 16): 3.7,\n",
       " (30, 18): 3.3,\n",
       " (30, 21): 2.8,\n",
       " (30, 26): 2.3,\n",
       " (30, 32): 1.8,\n",
       " (42, 12): 6.9,\n",
       " (42, 14): 5.9,\n",
       " (42, 16): 5.1,\n",
       " (42, 18): 4.6,\n",
       " (42, 21): 3.9,\n",
       " (42, 26): 3.2,\n",
       " (42, 32): 2.6}"
      ]
     },
     "execution_count": 45,
     "metadata": {},
     "output_type": "execute_result"
    }
   ],
   "source": [
    "proto = deepcopy(lyonsport)\n",
    "proto.crank_length = 171\n",
    "proto.front_cogs = [30, 42]\n",
    "gain_ratios(proto, 1)"
   ]
  },
  {
   "cell_type": "code",
   "execution_count": 21,
   "metadata": {
    "collapsed": false
   },
   "outputs": [
    {
     "data": {
      "text/plain": [
       "(2.4285714285714284, 2.3333333333333335)"
      ]
     },
     "execution_count": 21,
     "metadata": {},
     "output_type": "execute_result"
    }
   ],
   "source": [
    "34/14, 42/18"
   ]
  },
  {
   "cell_type": "code",
   "execution_count": null,
   "metadata": {
    "collapsed": true
   },
   "outputs": [],
   "source": []
  }
 ],
 "metadata": {
  "kernelspec": {
   "display_name": "Python 3",
   "language": "python",
   "name": "python3"
  },
  "language_info": {
   "codemirror_mode": {
    "name": "ipython",
    "version": 3
   },
   "file_extension": ".py",
   "mimetype": "text/x-python",
   "name": "python",
   "nbconvert_exporter": "python",
   "pygments_lexer": "ipython3",
   "version": "3.4.2"
  }
 },
 "nbformat": 4,
 "nbformat_minor": 0
}
