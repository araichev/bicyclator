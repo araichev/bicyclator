{
 "cells": [
  {
   "cell_type": "code",
   "execution_count": null,
   "metadata": {},
   "outputs": [],
   "source": [
    "import sys\n",
    "\n",
    "sys.path.append('../')\n",
    "\n",
    "import bicyclator as bc\n"
   ]
  },
  {
   "cell_type": "code",
   "execution_count": 2,
   "metadata": {},
   "outputs": [
    {
     "data": {
      "text/plain": [
       "Nameless bicycle\n",
       "================\n",
       "front_cogs = []\n",
       "rear_cogs = []\n",
       "crank_length = None\n",
       "head_tube_angle = None\n",
       "fork_rake = None\n",
       "\n",
       "front_wheel = Nameless wheel\n",
       "----------------------------\n",
       "bsd = None\n",
       "center_to_flange = {'left': None, 'right': None}\n",
       "diameter = None\n",
       "erd = None\n",
       "flange_diameter = {'left': None, 'right': None}\n",
       "name = None\n",
       "num_crosses = 3\n",
       "num_spokes = None\n",
       "offset = 0\n",
       "spoke_hole_diameter = 2.6\n",
       "tire_width = None\n",
       "\n",
       "rear_wheel = Nameless wheel\n",
       "----------------------------\n",
       "bsd = None\n",
       "center_to_flange = {'left': None, 'right': None}\n",
       "diameter = None\n",
       "erd = None\n",
       "flange_diameter = {'left': None, 'right': None}\n",
       "name = None\n",
       "num_crosses = 3\n",
       "num_spokes = None\n",
       "offset = 0\n",
       "spoke_hole_diameter = 2.6\n",
       "tire_width = None"
      ]
     },
     "execution_count": 2,
     "metadata": {},
     "output_type": "execute_result"
    }
   ],
   "source": [
    "bike = bc.Bicycle()\n",
    "bike\n"
   ]
  },
  {
   "cell_type": "code",
   "execution_count": 3,
   "metadata": {},
   "outputs": [
    {
     "data": {
      "text/plain": [
       "{(28, 12): 4.591617933723197,\n",
       " (28, 14): 3.9356725146198834,\n",
       " (28, 16): 3.443713450292398,\n",
       " (28, 18): 3.0610786224821314,\n",
       " (28, 21): 2.6237816764132553,\n",
       " (28, 26): 2.119208277103014,\n",
       " (28, 32): 1.721856725146199,\n",
       " (42, 12): 6.887426900584796,\n",
       " (42, 14): 5.9035087719298245,\n",
       " (42, 16): 5.165570175438597,\n",
       " (42, 18): 4.591617933723197,\n",
       " (42, 21): 3.9356725146198834,\n",
       " (42, 26): 3.178812415654521,\n",
       " (42, 32): 2.5827850877192984}"
      ]
     },
     "execution_count": 3,
     "metadata": {},
     "output_type": "execute_result"
    }
   ],
   "source": [
    "wheel = bc.Wheel(\n",
    "  name='wheely',\n",
    "  diameter=673,  \n",
    "  )\n",
    "lyonsport = bc.Bicycle(\n",
    "  name='Lyonsport', \n",
    "  front_cogs=[42, 28], \n",
    "  rear_cogs=[12, 14, 16, 18, 21, 26, 32],\n",
    "  crank_length=171,\n",
    "  front_wheel=wheel,\n",
    "  rear_wheel=wheel,\n",
    "  )\n",
    "\n",
    "bc.gain_ratios(lyonsport)\n",
    "#lyonsport.cadence_to_speeds(60)"
   ]
  },
  {
   "cell_type": "code",
   "execution_count": 18,
   "metadata": {},
   "outputs": [
    {
     "data": {
      "text/plain": [
       "{(26, 12): 4.418686868686869,\n",
       " (26, 14): 3.787445887445888,\n",
       " (26, 16): 3.314015151515152,\n",
       " (26, 18): 2.9457912457912463,\n",
       " (26, 21): 2.524963924963925,\n",
       " (26, 26): 2.0393939393939395,\n",
       " (26, 32): 1.657007575757576,\n",
       " (40, 12): 6.7979797979797985,\n",
       " (40, 14): 5.826839826839827,\n",
       " (40, 16): 5.098484848484849,\n",
       " (40, 18): 4.531986531986532,\n",
       " (40, 21): 3.8845598845598848,\n",
       " (40, 26): 3.1375291375291376,\n",
       " (40, 32): 2.5492424242424243}"
      ]
     },
     "execution_count": 18,
     "metadata": {},
     "output_type": "execute_result"
    }
   ],
   "source": [
    "rivendell = lyonsport.copy()\n",
    "#rivendell.front_cogs = [24, 35, 43]\n",
    "rivendell.front_cogs = [26, 40]\n",
    "rivendell.crank_length = 165\n",
    "bc.gain_ratios(rivendell)\n"
   ]
  },
  {
   "cell_type": "code",
   "execution_count": null,
   "metadata": {},
   "outputs": [],
   "source": []
  },
  {
   "cell_type": "code",
   "execution_count": null,
   "metadata": {},
   "outputs": [],
   "source": []
  }
 ],
 "metadata": {
  "kernelspec": {
   "display_name": "Python 3",
   "language": "python",
   "name": "python3"
  },
  "language_info": {
   "codemirror_mode": {
    "name": "ipython",
    "version": 3
   },
   "file_extension": ".py",
   "mimetype": "text/x-python",
   "name": "python",
   "nbconvert_exporter": "python",
   "pygments_lexer": "ipython3",
   "version": "3.5.2"
  }
 },
 "nbformat": 4,
 "nbformat_minor": 1
}
